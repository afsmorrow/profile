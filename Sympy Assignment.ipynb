{
 "cells": [
  {
   "cell_type": "markdown",
   "metadata": {},
   "source": [
    "we will use `Sympy` to create a function as an object, substitute variables in it, change the value of variables and plot the results, derive and integrate the function, and set equivalences to solve for the variable. To do so, we begin by importing the libraries we will use."
   ]
  },
  {
   "cell_type": "code",
   "execution_count": 2,
   "metadata": {},
   "outputs": [],
   "source": [
    "import matplotlib.pyplot as plt\n",
    "import sympy as sp\n"
   ]
  },
  {
   "cell_type": "markdown",
   "metadata": {},
   "source": [
    "First, we create all the vriables we need as symbols using the `Symbol` class. We will need to make multiple symbols. To do so at once, we will use the `symbols` function instead, setting it equal to the variables we will use later."
   ]
  },
  {
   "cell_type": "code",
   "execution_count": 19,
   "metadata": {},
   "outputs": [],
   "source": [
    "x, A, B, C, y,v,z,f = sp.symbols('x,C1,C2,C3,\\gamma_1,\\gamma_2,\\gamma_3, f')\n"
   ]
  },
  {
   "cell_type": "markdown",
   "metadata": {},
   "source": [
    "Now we will make the symbols into a function. Now that they are symbols, it is fairly simple to make them into a function. We write it out, using the symbols as the variables and writing 'sin()' for the sines in the function."
   ]
  },
  {
   "cell_type": "code",
   "execution_count": 23,
   "metadata": {},
   "outputs": [
    {
     "data": {
      "text/latex": [
       "$\\displaystyle C_{1} \\sin{\\left(\\gamma_1 x \\right)} + C_{2} \\sin{\\left(\\gamma_2 x \\right)} + C_{3} \\sin{\\left(\\gamma_3 x \\right)}$"
      ],
      "text/plain": [
       "C1*sin(\\gamma_1*x) + C2*sin(\\gamma_2*x) + C3*sin(\\gamma_3*x)"
      ]
     },
     "execution_count": 23,
     "metadata": {},
     "output_type": "execute_result"
    }
   ],
   "source": [
    "f = (A*sp.sin(y*x)+B*sp.sin(v*x)+C*sp.sin(z*x))\n",
    "f"
   ]
  },
  {
   "cell_type": "markdown",
   "metadata": {},
   "source": [
    "Now we will substitute A, B, and C for numerical values. We do so using the `.subs()` function, which takes as parameters the variable to be substituted and the substitute."
   ]
  },
  {
   "cell_type": "code",
   "execution_count": 25,
   "metadata": {},
   "outputs": [
    {
     "data": {
      "text/latex": [
       "$\\displaystyle C_{1} \\sin{\\left(2 \\pi x \\right)} + C_{2} \\sin{\\left(4 \\pi x \\right)} + C_{3} \\sin{\\left(6 \\pi x \\right)}$"
      ],
      "text/plain": [
       "C1*sin(2*pi*x) + C2*sin(4*pi*x) + C3*sin(6*pi*x)"
      ]
     },
     "execution_count": 25,
     "metadata": {},
     "output_type": "execute_result"
    }
   ],
   "source": [
    "f =f.subs([(y,float(2)*sp.pi),(v,4*sp.pi),(z,6*sp.pi)])\n",
    "f"
   ]
  },
  {
   "cell_type": "markdown",
   "metadata": {},
   "source": [
    "Next, we will write a Python function to allow users to input values for the remaining symbols. Then we will make a graph of the resulting function using `Numpy` and `Pyplot` to create a graph. "
   ]
  },
  {
   "cell_type": "code",
   "execution_count": 46,
   "metadata": {},
   "outputs": [
    {
     "name": "stdout",
     "output_type": "stream",
     "text": [
      "Enter the first value: 5\n",
      "Enter the second value: 5\n",
      "Enter the third value: 5\n"
     ]
    }
   ],
   "source": [
    "def enterVar(f):\n",
    "    #print()\n",
    "    a = float(input(\"Enter the first value: \"))\n",
    "    b = float(input(\"Enter the second value: \"))\n",
    "    c = float(input(\"Enter the third value: \"))\n",
    "    f = f.subs([(A,a),(B,b),(C,c)])\n",
    "    return f\n",
    "f= enterVar(f)\n",
    "    "
   ]
  },
  {
   "cell_type": "markdown",
   "metadata": {},
   "source": [
    "Having written our function, we will make a Numpy array for values between 0 and pi, and use the function `lambdify` to make the graph, creating a new variable `g` in the process. The parameters of lambdify will be a list of the variables that the function will be of - in this case only x - and the function we are setting it equivalent to - f. We are saying g(x) = f, and f is a function which contains x.\n",
    "\n",
    "Then we will make a graph using Pyplot, making a figure and axes with the subplot function and setting the axes equal to g and the array."
   ]
  },
  {
   "cell_type": "code",
   "execution_count": 47,
   "metadata": {},
   "outputs": [
    {
     "data": {
      "image/png": "[encoded data removed]",
      "text/plain": [
       "<Figure size 432x288 with 1 Axes>"
      ]
     },
     "metadata": {
      "needs_background": "light"
     },
     "output_type": "display_data"
    }
   ],
   "source": [
    "import numpy as np\n",
    "\n",
    "xGraph = np.arange(0, sp.pi, 0.1)\n",
    "xGraph = xGraph.astype('float64')\n",
    "g = sp.lambdify([x], f, 'numpy')\n",
    "yGraph = g(xGraph)\n",
    "\n",
    "#f, yGraph\n",
    "\n",
    "\n",
    "\n",
    "fig, ax = plt.subplots()\n",
    "ax.plot(xGraph, yGraph);\n",
    "\n",
    "#xGraph\n"
   ]
  },
  {
   "cell_type": "markdown",
   "metadata": {},
   "source": [
    "Derivations and integrations are fairly simple in `Sympy`, with each having a corresponding function. Each ahs two parameters: the function to take the derivative of or to integrate, and the value to do so with respect to. There are additional, optional parameters for things like the order and limits of integration, but we will not use them here."
   ]
  },
  {
   "cell_type": "code",
   "execution_count": 49,
   "metadata": {},
   "outputs": [
    {
     "data": {
      "text/plain": [
       "(2.0*pi*cos(2*pi*x) + 8.0*pi*cos(4*pi*x) + 18.0*pi*cos(6*pi*x),\n",
       " -0.5*cos(2*pi*x)/pi - 0.5*cos(4*pi*x)/pi - 0.5*cos(6*pi*x)/pi)"
      ]
     },
     "execution_count": 49,
     "metadata": {},
     "output_type": "execute_result"
    }
   ],
   "source": [
    "w = sp.diff(f,x)\n",
    "q = sp.integrate(f,x)\n",
    "\n",
    "w,q"
   ]
  },
  {
   "cell_type": "markdown",
   "metadata": {},
   "source": [
    "Finally, we will reset our equations and then solve them for specific variables using the `solve()` function, which has two parameters:  the equation being solved, and the variable being solved for.\n",
    "\n",
    "By default, the functions are set to equal zero. To change that can be done with simple subtraction. If c =2, c-2 = 0. Subtracting two from the equation when we define it allows for us to solve for C3 when f(x) = 2."
   ]
  },
  {
   "cell_type": "code",
   "execution_count": 73,
   "metadata": {},
   "outputs": [
    {
     "data": {
      "text/plain": [
       "([-(C1*sin(2*pi*x) + C2*sin(4*pi*x))/sin(6*pi*x)],\n",
       " [(-C1*sin(2*pi*x) - C2*sin(4*pi*x) + 2)/sin(6*pi*x)])"
      ]
     },
     "execution_count": 73,
     "metadata": {},
     "output_type": "execute_result"
    }
   ],
   "source": [
    "f = (A*sp.sin(y*x)+B*sp.sin(v*x)+C*sp.sin(z*x) +0)\n",
    "f =f.subs([(y,float(2)*sp.pi),(v,4*sp.pi),(z,6*sp.pi)])\n",
    "\n",
    "\n",
    "\n",
    "\n",
    "g= (A*sp.sin(y*x)+B*sp.sin(v*x)+C*sp.sin(z*x) -2)\n",
    "g =g.subs([(y,float(2)*sp.pi),(v,4*sp.pi),(z,6*sp.pi)])\n",
    "\n",
    "sp.solve(f,C), sp.solve(g,C)\n",
    "\n"
   ]
  },
  {
   "cell_type": "code",
   "execution_count": null,
   "metadata": {},
   "outputs": [],
   "source": []
  }
 ],
 "metadata": {
  "kernelspec": {
   "display_name": "Python 3",
   "language": "python",
   "name": "python3"
  },
  "language_info": {
   "codemirror_mode": {
    "name": "ipython",
    "version": 3
   },
   "file_extension": ".py",
   "mimetype": "text/x-python",
   "name": "python",
   "nbconvert_exporter": "python",
   "pygments_lexer": "ipython3",
   "version": "3.7.6"
  }
 },
 "nbformat": 4,
 "nbformat_minor": 4
}
