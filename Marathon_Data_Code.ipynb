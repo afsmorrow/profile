{
 "cells": [
  {
   "cell_type": "markdown",
   "metadata": {},
   "source": [
    "`Numpy` is a Python module that is very useful for working with numerical computation. It provides high-performance data structures. To use it, it must be first imported. Another useful module is `datetime` which is used for working with dates and time."
   ]
  },
  {
   "cell_type": "code",
   "execution_count": 2,
   "metadata": {},
   "outputs": [],
   "source": [
    "import numpy as np\n",
    "import datetime as dt"
   ]
  },
  {
   "cell_type": "markdown",
   "metadata": {},
   "source": [
    "Once `numpy` is imported, the function `numpy.genfromtxt` can be used to read data from a file into a Numpy array. The data types in the file can be specified. Here, I do that with the variable `types`. The file I am working with is a list of data for people who have run marathons. I write the function `timeToSec` to  convert their times from HH:MM:SS to a second format using `datetime`."
   ]
  },
  {
   "cell_type": "code",
   "execution_count": 5,
   "metadata": {
    "collapsed": true
   },
   "outputs": [
    {
     "name": "stderr",
     "output_type": "stream",
     "text": [
      "C:\\Users\\morroa2\\anaconda3\\lib\\site-packages\\ipykernel_launcher.py:9: VisibleDeprecationWarning: Reading unicode strings without specifying the encoding argument is deprecated. Set the encoding, use None for the system default.\n",
      "  if __name__ == '__main__':\n"
     ]
    },
    {
     "data": {
      "text/plain": [
       "array([(33, b'M', b'01:05:38', b'02:08:51'),\n",
       "       (32, b'M', b'01:06:26', b'02:09:28'),\n",
       "       (31, b'M', b'01:06:49', b'02:10:42'), ...,\n",
       "       (51, b'M', b'04:22:35', b'09:33:40'),\n",
       "       (55, b'W', b'04:58:06', b'10:00:40'),\n",
       "       (58, b'W', b'04:59:49', b'10:01:08')],\n",
       "      dtype=[('age', '<i4'), ('gender', 'S1'), ('split', 'S8'), ('final', 'S8')])"
      ]
     },
     "execution_count": 5,
     "metadata": {},
     "output_type": "execute_result"
    }
   ],
   "source": [
    "def timeToSec(time_string):\n",
    "    dtObject = dt.datetime.strptime(time_string, \"%H:%M:%S\")\n",
    "    dtDelta = dtObject - dt.datetime(1900,1,1)\n",
    "    seconds = dtDelta.total_seconds()\n",
    "    return seconds\n",
    "\n",
    "\n",
    "types =['i8','S']\n",
    "data = np.genfromtxt('marathon-data.csv', dtype =None, delimiter = ',', names = True)\n"
   ]
  },
  {
   "cell_type": "markdown",
   "metadata": {},
   "source": [
    "Using `genfromtxt` I have created the variable data as an array consisting of all the information stored in the file, which looks like this:"
   ]
  },
  {
   "cell_type": "code",
   "execution_count": 6,
   "metadata": {},
   "outputs": [
    {
     "data": {
      "text/plain": [
       "array([(33, b'M', b'01:05:38', b'02:08:51'),\n",
       "       (32, b'M', b'01:06:26', b'02:09:28'),\n",
       "       (31, b'M', b'01:06:49', b'02:10:42'), ...,\n",
       "       (51, b'M', b'04:22:35', b'09:33:40'),\n",
       "       (55, b'W', b'04:58:06', b'10:00:40'),\n",
       "       (58, b'W', b'04:59:49', b'10:01:08')],\n",
       "      dtype=[('age', '<i4'), ('gender', 'S1'), ('split', 'S8'), ('final', 'S8')])"
      ]
     },
     "execution_count": 6,
     "metadata": {},
     "output_type": "execute_result"
    }
   ],
   "source": [
    "data"
   ]
  },
  {
   "cell_type": "markdown",
   "metadata": {},
   "source": [
    "I can then manipulate this data. For instance, I could find the minimum and maximum ages. I do so by looping through the array, selecting every value in the age column and adding it to the list. Then I find the maximum and miniumum values in this list."
   ]
  },
  {
   "cell_type": "code",
   "execution_count": 22,
   "metadata": {
    "scrolled": true
   },
   "outputs": [],
   "source": [
    "ageList = []\n",
    "for i in range(0, len(data)):\n",
    "    ageList.append(data[i][0])\n",
    "#ageList\n",
    "maxAge = max(ageList)\n",
    "minAge = min(ageList)"
   ]
  },
  {
   "cell_type": "markdown",
   "metadata": {},
   "source": [
    "I will use `ageList` many times to compute statistics such as the mean, the standard deviation, and median. The (maxAge, minAge) for marathon-data is:"
   ]
  },
  {
   "cell_type": "code",
   "execution_count": 24,
   "metadata": {},
   "outputs": [
    {
     "data": {
      "text/plain": [
       "(86, 17)"
      ]
     },
     "execution_count": 24,
     "metadata": {},
     "output_type": "execute_result"
    }
   ],
   "source": [
    "(maxAge, minAge)\n"
   ]
  },
  {
   "cell_type": "markdown",
   "metadata": {},
   "source": [
    "To find the mean and median, I will use the `statistics` library. To find the number of observations I can simply find the length of `ageList` using the `len` function. I will calculate the standard deviation using my own code, where I make a list of the difference between each item and the average squared caled `devList`. Then I use `sum` to add up `devList`, divide it by `numObs`, and take the square root of that number to find the standard deviation."
   ]
  },
  {
   "cell_type": "code",
   "execution_count": 33,
   "metadata": {},
   "outputs": [
    {
     "data": {
      "text/plain": [
       "(37250, 40, 40.0, 10.24)"
      ]
     },
     "execution_count": 33,
     "metadata": {},
     "output_type": "execute_result"
    }
   ],
   "source": [
    "import statistics as stat\n",
    "\n",
    "\n",
    "numObs = len(ageList)\n",
    "avg= stat.mean(ageList)\n",
    "#stanD = stat.pstdev(ageList)\n",
    "med = stat.median(ageList)\n",
    "\n",
    "devList = []\n",
    "for i in range(0, len(data)):\n",
    "    deviation = ageList[i]\n",
    "    devList.append((deviation - avg)**2)\n",
    "stanDev = round((sum(devList)/numObs)**0.5,2) \n",
    "    \n",
    "\n",
    "numObs,avg, med, stanDev"
   ]
  },
  {
   "cell_type": "markdown",
   "metadata": {},
   "source": [
    "Now I will convert `ageList` back into an array using the `array` function to make a histogram of age. Here I will use `numpy` again."
   ]
  },
  {
   "cell_type": "code",
   "execution_count": 38,
   "metadata": {},
   "outputs": [
    {
     "data": {
      "text/plain": [
       "(array([ 846, 5888, 8080, 9610, 7292, 3592, 1520,  353,   54,   15],\n",
       "       dtype=int64),\n",
       " array([17. , 23.9, 30.8, 37.7, 44.6, 51.5, 58.4, 65.3, 72.2, 79.1, 86. ]))"
      ]
     },
     "execution_count": 38,
     "metadata": {},
     "output_type": "execute_result"
    }
   ],
   "source": [
    "ageArray = np.array(ageList)\n",
    "hist, bin_edges = np.histogram(ageArray)\n",
    "hist,bin_edges"
   ]
  },
  {
   "cell_type": "code",
   "execution_count": null,
   "metadata": {},
   "outputs": [],
   "source": []
  }
 ],
 "metadata": {
  "kernelspec": {
   "display_name": "Python 3",
   "language": "python",
   "name": "python3"
  },
  "language_info": {
   "codemirror_mode": {
    "name": "ipython",
    "version": 3
   },
   "file_extension": ".py",
   "mimetype": "text/x-python",
   "name": "python",
   "nbconvert_exporter": "python",
   "pygments_lexer": "ipython3",
   "version": "3.7.6"
  }
 },
 "nbformat": 4,
 "nbformat_minor": 4
}
