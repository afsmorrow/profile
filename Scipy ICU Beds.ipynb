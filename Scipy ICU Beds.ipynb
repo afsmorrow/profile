{
 "cells": [
  {
   "cell_type": "markdown",
   "metadata": {},
   "source": [
    "`SciPy` is a Python library which builds on the `NumPy` framework to provide higher-level functions such as Fourier Transforms, integration, and graph making. It is divided into several submodules, each of which provides numerous functions.\n",
    "\n",
    "Because of this, you only need to import part of the module.\n",
    "\n",
    "`SciPy` is especailly powerful when combined with other libraries such as `matplotlib` and `IPython.display`"
   ]
  },
  {
   "cell_type": "code",
   "execution_count": 26,
   "metadata": {},
   "outputs": [],
   "source": [
    "from scipy import *\n",
    "import scipy.optimize as opt\n",
    "import matplotlib.pyplot as plt\n",
    "from IPython.display import Image\n",
    "import numpy as np"
   ]
  },
  {
   "cell_type": "markdown",
   "metadata": {},
   "source": [
    "We will also use `Pandas` to import data from a .csv. In this case, the data will be the number of ICU beds and population in various counties across the United States."
   ]
  },
  {
   "cell_type": "code",
   "execution_count": 27,
   "metadata": {},
   "outputs": [],
   "source": [
    "import pandas as pd"
   ]
  },
  {
   "cell_type": "markdown",
   "metadata": {},
   "source": [
    "Using `Pandas` to import the .csv, we will then use the resulting DataFrame to create a scatter plot of population vs. number of ICU beds and create a best fit line for the graph."
   ]
  },
  {
   "cell_type": "code",
   "execution_count": 28,
   "metadata": {},
   "outputs": [],
   "source": [
    "data = pd.read_csv(\"kaggleBeds.csv\")"
   ]
  },
  {
   "cell_type": "code",
   "execution_count": 29,
   "metadata": {},
   "outputs": [
    {
     "data": {
      "text/html": [
       "<div>\n",
       "<style scoped>\n",
       "    .dataframe tbody tr th:only-of-type {\n",
       "        vertical-align: middle;\n",
       "    }\n",
       "\n",
       "    .dataframe tbody tr th {\n",
       "        vertical-align: top;\n",
       "    }\n",
       "\n",
       "    .dataframe thead th {\n",
       "        text-align: right;\n",
       "    }\n",
       "</style>\n",
       "<table border=\"1\" class=\"dataframe\">\n",
       "  <thead>\n",
       "    <tr style=\"text-align: right;\">\n",
       "      <th></th>\n",
       "      <th>State</th>\n",
       "      <th>County</th>\n",
       "      <th>ICU Beds</th>\n",
       "      <th>Total Population</th>\n",
       "      <th>Population Aged 60+</th>\n",
       "      <th>Percent of Population Aged 60+</th>\n",
       "      <th>Residents Aged 60+ Per Each ICU Bed</th>\n",
       "    </tr>\n",
       "  </thead>\n",
       "  <tbody>\n",
       "    <tr>\n",
       "      <th>0</th>\n",
       "      <td>Alabama</td>\n",
       "      <td>Autauga</td>\n",
       "      <td>6</td>\n",
       "      <td>55036</td>\n",
       "      <td>10523</td>\n",
       "      <td>19.1</td>\n",
       "      <td>1754.0</td>\n",
       "    </tr>\n",
       "    <tr>\n",
       "      <th>1</th>\n",
       "      <td>Alabama</td>\n",
       "      <td>Baldwin</td>\n",
       "      <td>51</td>\n",
       "      <td>203360</td>\n",
       "      <td>53519</td>\n",
       "      <td>26.3</td>\n",
       "      <td>1049.0</td>\n",
       "    </tr>\n",
       "    <tr>\n",
       "      <th>2</th>\n",
       "      <td>Alabama</td>\n",
       "      <td>Barbour</td>\n",
       "      <td>5</td>\n",
       "      <td>26201</td>\n",
       "      <td>6150</td>\n",
       "      <td>23.5</td>\n",
       "      <td>1230.0</td>\n",
       "    </tr>\n",
       "    <tr>\n",
       "      <th>3</th>\n",
       "      <td>Alabama</td>\n",
       "      <td>Bibb</td>\n",
       "      <td>0</td>\n",
       "      <td>22580</td>\n",
       "      <td>4773</td>\n",
       "      <td>21.1</td>\n",
       "      <td>NaN</td>\n",
       "    </tr>\n",
       "    <tr>\n",
       "      <th>4</th>\n",
       "      <td>Alabama</td>\n",
       "      <td>Blount</td>\n",
       "      <td>6</td>\n",
       "      <td>57667</td>\n",
       "      <td>13600</td>\n",
       "      <td>23.6</td>\n",
       "      <td>2267.0</td>\n",
       "    </tr>\n",
       "    <tr>\n",
       "      <th>...</th>\n",
       "      <td>...</td>\n",
       "      <td>...</td>\n",
       "      <td>...</td>\n",
       "      <td>...</td>\n",
       "      <td>...</td>\n",
       "      <td>...</td>\n",
       "      <td>...</td>\n",
       "    </tr>\n",
       "    <tr>\n",
       "      <th>3137</th>\n",
       "      <td>Wyoming</td>\n",
       "      <td>Sweetwater</td>\n",
       "      <td>10</td>\n",
       "      <td>44527</td>\n",
       "      <td>7015</td>\n",
       "      <td>15.8</td>\n",
       "      <td>702.0</td>\n",
       "    </tr>\n",
       "    <tr>\n",
       "      <th>3138</th>\n",
       "      <td>Wyoming</td>\n",
       "      <td>Teton</td>\n",
       "      <td>6</td>\n",
       "      <td>22923</td>\n",
       "      <td>4298</td>\n",
       "      <td>18.7</td>\n",
       "      <td>716.0</td>\n",
       "    </tr>\n",
       "    <tr>\n",
       "      <th>3139</th>\n",
       "      <td>Wyoming</td>\n",
       "      <td>Uinta</td>\n",
       "      <td>6</td>\n",
       "      <td>20758</td>\n",
       "      <td>3554</td>\n",
       "      <td>17.1</td>\n",
       "      <td>592.0</td>\n",
       "    </tr>\n",
       "    <tr>\n",
       "      <th>3140</th>\n",
       "      <td>Wyoming</td>\n",
       "      <td>Washakie</td>\n",
       "      <td>0</td>\n",
       "      <td>8253</td>\n",
       "      <td>2206</td>\n",
       "      <td>26.7</td>\n",
       "      <td>NaN</td>\n",
       "    </tr>\n",
       "    <tr>\n",
       "      <th>3141</th>\n",
       "      <td>Wyoming</td>\n",
       "      <td>Weston</td>\n",
       "      <td>0</td>\n",
       "      <td>7117</td>\n",
       "      <td>2073</td>\n",
       "      <td>29.1</td>\n",
       "      <td>NaN</td>\n",
       "    </tr>\n",
       "  </tbody>\n",
       "</table>\n",
       "<p>3142 rows × 7 columns</p>\n",
       "</div>"
      ],
      "text/plain": [
       "        State      County  ICU Beds  Total Population  Population Aged 60+  \\\n",
       "0     Alabama     Autauga         6             55036                10523   \n",
       "1     Alabama     Baldwin        51            203360                53519   \n",
       "2     Alabama     Barbour         5             26201                 6150   \n",
       "3     Alabama        Bibb         0             22580                 4773   \n",
       "4     Alabama      Blount         6             57667                13600   \n",
       "...       ...         ...       ...               ...                  ...   \n",
       "3137  Wyoming  Sweetwater        10             44527                 7015   \n",
       "3138  Wyoming       Teton         6             22923                 4298   \n",
       "3139  Wyoming       Uinta         6             20758                 3554   \n",
       "3140  Wyoming    Washakie         0              8253                 2206   \n",
       "3141  Wyoming      Weston         0              7117                 2073   \n",
       "\n",
       "      Percent of Population Aged 60+  Residents Aged 60+ Per Each ICU Bed  \n",
       "0                               19.1                               1754.0  \n",
       "1                               26.3                               1049.0  \n",
       "2                               23.5                               1230.0  \n",
       "3                               21.1                                  NaN  \n",
       "4                               23.6                               2267.0  \n",
       "...                              ...                                  ...  \n",
       "3137                            15.8                                702.0  \n",
       "3138                            18.7                                716.0  \n",
       "3139                            17.1                                592.0  \n",
       "3140                            26.7                                  NaN  \n",
       "3141                            29.1                                  NaN  \n",
       "\n",
       "[3142 rows x 7 columns]"
      ]
     },
     "execution_count": 29,
     "metadata": {},
     "output_type": "execute_result"
    }
   ],
   "source": [
    "data"
   ]
  },
  {
   "cell_type": "code",
   "execution_count": 30,
   "metadata": {},
   "outputs": [
    {
     "data": {
      "text/plain": [
       "(array([ 55036, 203360,  26201, ...,  20758,   8253,   7117], dtype=int64),\n",
       " array([ 6, 51,  5, ...,  6,  0,  0], dtype=int64))"
      ]
     },
     "execution_count": 30,
     "metadata": {},
     "output_type": "execute_result"
    }
   ],
   "source": [
    "popData = data['Total Population'].to_numpy()\n",
    "bedData = data[\"ICU Beds\"].to_numpy()\n",
    "popData, bedData"
   ]
  },
  {
   "cell_type": "markdown",
   "metadata": {},
   "source": [
    "We convert the relevant parts of the DataFrame (total population and number of ICU beds) into NumPy arrays using the `to_numpy()` function, then use them to create a scatter plot using `matplotlib`. We will then create a line of best fit. If there is a strong correlation between the data points and the line of best fit, we will be able to say that the number of ICU beds correlates with population.\n",
    "\n",
    "To do so, first we use the function polyfit to create a slope and y-intercept for a line with a degree of 1. We then create a  figure and axes with the subplots function.\n",
    "\n",
    "The axes object is used to make the scatter plot and label the graph appropriately, and then the line of best fit is plotted on top. We can then analyse the resulting graph to determine the presence of correlation."
   ]
  },
  {
   "cell_type": "code",
   "execution_count": 47,
   "metadata": {},
   "outputs": [
    {
     "data": {
      "text/plain": [
       "[<matplotlib.lines.Line2D at 0x22de2d3eb88>]"
      ]
     },
     "execution_count": 47,
     "metadata": {},
     "output_type": "execute_result"
    },
    {
     "data": {
      "image/png": "[encoded data removed]",
      "text/plain": [
       "<Figure size 432x288 with 1 Axes>"
      ]
     },
     "metadata": {
      "needs_background": "light"
     },
     "output_type": "display_data"
    }
   ],
   "source": [
    "m,b = np.polyfit(popData, bedData,1)\n",
    "\n",
    "\n",
    "fig, axes = plt.subplots()\n",
    "\n",
    "axes.scatter(popData,bedData,c='b',marker='*')\n",
    "axes.set_xlabel('Number of ICU Beds', fontsize=16)\n",
    "axes.set_ylabel('Total Population', fontsize=16)\n",
    "axes.set_title('Number of ICU Beds vs. Total Population',fontsize=20)\n",
    "axes.plot(popData, m*popData + b)"
   ]
  },
  {
   "cell_type": "markdown",
   "metadata": {},
   "source": [
    "The line of best fit follows the general pattern. As the population increases, the number of ICU beds increases as well, with the rates staying roughly constant for both variables. "
   ]
  },
  {
   "cell_type": "code",
   "execution_count": null,
   "metadata": {},
   "outputs": [],
   "source": []
  },
  {
   "cell_type": "code",
   "execution_count": null,
   "metadata": {},
   "outputs": [],
   "source": []
  },
  {
   "cell_type": "code",
   "execution_count": null,
   "metadata": {},
   "outputs": [],
   "source": []
  }
 ],
 "metadata": {
  "kernelspec": {
   "display_name": "Python 3",
   "language": "python",
   "name": "python3"
  },
  "language_info": {
   "codemirror_mode": {
    "name": "ipython",
    "version": 3
   },
   "file_extension": ".py",
   "mimetype": "text/x-python",
   "name": "python",
   "nbconvert_exporter": "python",
   "pygments_lexer": "ipython3",
   "version": "3.7.6"
  }
 },
 "nbformat": 4,
 "nbformat_minor": 4
}
