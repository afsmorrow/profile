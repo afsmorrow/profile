{
 "cells": [
  {
   "cell_type": "markdown",
   "metadata": {},
   "source": [
    "A Taylor series is a mathematical construct which takes a non-polynomial function (also known as a transcendent function) and turns it into an infinite series of polynomials. A Taylor series of the function $f(x)$ which is inifintiely derivable when $x=a$  looks something like this:"
   ]
  },
  {
   "cell_type": "markdown",
   "metadata": {},
   "source": [
    "$$\n",
    "f(a) + \\frac{f'(a)(x-a)}{1!} + \\frac{f''(a)(x-a)^2}{2!} + \\frac{f'''(a)(x-a)^3}{3!}...\n",
    "$$\n",
    "\n"
   ]
  },
  {
   "cell_type": "markdown",
   "metadata": {},
   "source": [
    "This can be used to approximate the derivative of a function if it cannot be found through the more typical methods.  Let us assume the function $f(x)$ creates the line below. To find the derivative at $x=c$ we  will need the Taylor series of $f(c-h)$ and $f(c+h) in addtion to the Taylor series of $f(c)$. "
   ]
  },
  {
   "cell_type": "markdown",
   "metadata": {},
   "source": [
    "![Approximation](Function.PNG)"
   ]
  },
  {
   "cell_type": "markdown",
   "metadata": {},
   "source": [
    "First, we will set the first two terms of the Taylor series to equal $0$, then we will do the same for the Taylor series of $f(c-h)$ and $f(c+h)$. This will create the following Taylor series:\n",
    "\n",
    "$$\n",
    "f(c) +f'(c)(x-c) = 0\n",
    "$$\n",
    "\n",
    "$$\n",
    "f(c-h) +f'(c-h)(x-c+h) = 0\n",
    "$$\n",
    "\n",
    "$$\n",
    "f(c+h) +f'(c+h)(x-c-h) = 0\n",
    "$$\n",
    "\n",
    "After some algebraic manipulation, we have our derivative:\n",
    "\n",
    "$$\n",
    "f'(c) = \\frac{f(c+h)-f(c-h)}{2h}\n",
    "$$\n",
    "\n",
    "A similar process can be done with the second derivative to find:\n",
    "\n",
    "$$\n",
    "f''(c) = \\frac{f(c+h)-2f(c)-f(c-h)}{h^2}\n",
    "$$"
   ]
  },
  {
   "cell_type": "markdown",
   "metadata": {},
   "source": [
    "Now we must translate the math into code to find the error values for this method compared to calculating the derivative like normal. First, we will import `NumPy` and `MatPlotLib` then we will define three spaces from 0 to 1, each with different sets of values in them. We will also define the exponent value as 8.\n",
    "\n",
    "Then we will define our function, which will create additional spaces to be set as a list of zeros equal in length to the x-space. Then, for each value in the x-space, we will set a corresponding value in another space equal to the x-value after is has been appropriately manipulated. Each for loop is a different function: the calculation of the initial $f(x)$, the derivative of $f$ found through the Taylor series, the derivative of $f$ calculated through differentiation, etc. \n",
    "\n",
    "Then the difference between $f'$ from the Taylor series and $f'$ is calculated for each point, and the same is done for the second derivative. This is returned and graphed. "
   ]
  },
  {
   "cell_type": "code",
   "execution_count": 91,
   "metadata": {},
   "outputs": [],
   "source": [
    "import numpy as np\n",
    "import matplotlib.pyplot as plt\n",
    "\n",
    "xVals1 = np.linspace(0,1,11)\n",
    "xVals2 = np.linspace(0,1,51)\n",
    "xVals3 = np.linspace(0,1,101)\n",
    "#print(xVals)\n",
    "\n",
    "exp = 8\n",
    "def findDervDiff(exp,xVals):\n",
    "    yVals = np.zeros_like(xVals)\n",
    "    firDerVals = np.zeros_like(xVals)\n",
    "    secDerVals = np.zeros_like(xVals)\n",
    "    calcFirDerVals =np.zeros_like(xVals)\n",
    "    calcSecDerVals = np.zeros_like(xVals)\n",
    "\n",
    "    for i in range(len(xVals)):\n",
    "        yVals[i] = xVals[i]**exp\n",
    "    \n",
    "    \n",
    "    for i in range(1,(len(xVals)-1)):\n",
    "        firDerVals[i] = (yVals[i+1]-yVals[i-1])/(xVals[i+1]-xVals[i-1])\n",
    "        \n",
    "    for i in range(1,(len(xVals)-1)):\n",
    "        secDerVals[i] = (yVals[i+1]-2*yVals[i]-yVals[i-1])/((xVals[i+1]-xVals[i-1])/2)**2\n",
    "        \n",
    "    dervExp = exp -1\n",
    "    dervCoeff = exp\n",
    "    secExp = exp-2\n",
    "    secCoeff = exp-1* dervCoeff\n",
    "    \n",
    "    \n",
    "    for i in range(1, len(xVals)-1):\n",
    "        calcFirDerVals = dervCoeff*(xVals[i]**dervExp)\n",
    "        \n",
    "    for i in range(1, len(xVals)-1):\n",
    "        calcSecDerVals = secCoeff*xVals[i]**secExp \n",
    "    \n",
    "    firstDiff = firDerVals - calcFirDerVals\n",
    "    secDiff = secDerVals - calcSecDerVals\n",
    "    \n",
    "    #print(firDerVals)\n",
    "    #print(calcFirDerVals)\n",
    "    #print(firstDiff)\n",
    "    #print(secDiff)\n",
    "    return secDiff,xVals\n",
    "    #print(xVals, yVals)\n",
    "    #print(xVals, yVals, firDerVals, secDerVals)\n",
    "    \n",
    "sec1, x1 = findDervDiff(8,xVals1)\n",
    "sec2, x2 = findDervDiff(8, xVals2)\n",
    "sec3, x3 = findDervDiff(8, xVals3)"
   ]
  },
  {
   "cell_type": "code",
   "execution_count": 92,
   "metadata": {},
   "outputs": [
    {
     "data": {
      "text/plain": [
       "Text(0.5, 1.0, 'X-Values vs. Second Derivative Error of x^8')"
      ]
     },
     "execution_count": 92,
     "metadata": {},
     "output_type": "execute_result"
    },
    {
     "data": {
      "image/png": "[encoded data removed]",
      "text/plain": [
       "<Figure size 432x288 with 1 Axes>"
      ]
     },
     "metadata": {
      "needs_background": "light"
     },
     "output_type": "display_data"
    }
   ],
   "source": [
    "fig, axes = plt.subplots()\n",
    "\n",
    "axes.scatter(x1,sec1,c='b',marker='*')\n",
    "axes.scatter(x2,sec2,c = 'g', marker = 'x')\n",
    "axes.scatter(x3,sec3, c = 'r', marker = 'o')\n",
    "axes.set_xlabel('X-Values', fontsize=16)\n",
    "axes.set_ylabel('Second Derivative Error', fontsize=16)\n",
    "axes.set_title('X-Values vs. Second Derivative Error of x^8',fontsize=20)\n"
   ]
  },
  {
   "cell_type": "markdown",
   "metadata": {},
   "source": [
    "As shown in the graph above, as $h$ decreases in value the magniture of the errors decreases. The error is always roughly equal to the first term of the Taylor series not included in our calculations."
   ]
  },
  {
   "cell_type": "code",
   "execution_count": null,
   "metadata": {},
   "outputs": [],
   "source": []
  }
 ],
 "metadata": {
  "kernelspec": {
   "display_name": "Python 3",
   "language": "python",
   "name": "python3"
  },
  "language_info": {
   "codemirror_mode": {
    "name": "ipython",
    "version": 3
   },
   "file_extension": ".py",
   "mimetype": "text/x-python",
   "name": "python",
   "nbconvert_exporter": "python",
   "pygments_lexer": "ipython3",
   "version": "3.7.6"
  }
 },
 "nbformat": 4,
 "nbformat_minor": 4
}
