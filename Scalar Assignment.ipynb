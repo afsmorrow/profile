{
 "cells": [
  {
   "cell_type": "markdown",
   "metadata": {},
   "source": [
    "To calculate Fick's Law in one dimension, first you must find the chemical potential by taking the second derivative of the Gibbs free energy with respect to the change in concentration along the x-axis and multiply it by $M$, the mobility of the chemical. Then you must take the divergence of the chemical potential, giving you the diffusion constant $D$ multiplied by the second derivative of concentration with respect to $x$. "
   ]
  },
  {
   "cell_type": "markdown",
   "metadata": {},
   "source": [
    "In this, I assume that the system has two chemical compenents. Together their molar concentration equals 1. I also assume that mole fraction $X$ is only a function of $x$. $G_A$ and $G_B$ are both constants that depend on the melting temperature and heat of fusion of the chemicals, $R$ is the gas constant and $T$ is the temperature in Kelvin."
   ]
  },
  {
   "cell_type": "code",
   "execution_count": 42,
   "metadata": {},
   "outputs": [
    {
     "name": "stdout",
     "output_type": "stream",
     "text": [
      "IPython console for SymPy 1.5.1 (Python 3.7.6-64-bit) (ground types: python)\n",
      "\n",
      "These commands were executed:\n",
      ">>> from __future__ import division\n",
      ">>> from sympy import *\n",
      ">>> x, y, z, t = symbols('x y z t')\n",
      ">>> k, m, n = symbols('k m n', integer=True)\n",
      ">>> f, g, h = symbols('f g h', cls=Function)\n",
      ">>> init_printing()\n",
      "\n",
      "Documentation can be found at https://docs.sympy.org/1.5.1/\n",
      "\n"
     ]
    }
   ],
   "source": [
    "import sympy as sp\n",
    "from sympy.plotting import plot3d\n",
    "import numpy as np\n",
    "import matplotlib.pyplot as plt\n",
    "import sympy.vector as spv\n",
    "from matplotlib import cm\n",
    "\n",
    "x, y, z = sp.symbols('x y z')\n",
    "\n",
    "sp.init_session()"
   ]
  },
  {
   "cell_type": "code",
   "execution_count": 119,
   "metadata": {},
   "outputs": [
    {
     "data": {
      "image/png": "[encoded data removed]",
      "text/latex": [
       "$\\displaystyle G_{A} \\left(1 - \\operatorname{X_{B}}{\\left(x \\right)}\\right) + G_{B} \\operatorname{X_{B}}{\\left(x \\right)} + R T \\left(\\left(1 - \\operatorname{X_{B}}{\\left(x \\right)}\\right) \\log{\\left(1 - \\operatorname{X_{B}}{\\left(x \\right)} \\right)} + \\operatorname{X_{B}}{\\left(x \\right)} \\log{\\left(\\operatorname{X_{B}}{\\left(x \\right)} \\right)}\\right)$"
      ],
      "text/plain": [
       "G_A⋅(1 - X_B(x)) + G_B⋅X_B(x) + R⋅T⋅((1 - X_B(x))⋅log(1 - X_B(x)) + X_B(x)⋅log\n",
       "(X_B(x)))"
      ]
     },
     "execution_count": 119,
     "metadata": {},
     "output_type": "execute_result"
    }
   ],
   "source": [
    "g_a,g_b, R, T, X, a = sp.symbols(\"G_A G_B R T X A\")\n",
    "b= sp.symbols('X_B', cls=Function)\n",
    "M = sp.symbols ('M', positive = True)\n",
    "g = g_a*(1-b(x)) + g_b*b(x) + R*T*(b(x)*sp.ln(b(x))+(1-b(x))*sp.ln(1-b(x)))\n",
    "g"
   ]
  },
  {
   "cell_type": "code",
   "execution_count": 120,
   "metadata": {},
   "outputs": [
    {
     "data": {
      "image/png": "[encoded data removed]",
      "text/latex": [
       "$\\displaystyle - G_{A} + G_{B} + R T \\left(- \\log{\\left(1 - \\operatorname{X_{B}}{\\left(x \\right)} \\right)} + \\log{\\left(\\operatorname{X_{B}}{\\left(x \\right)} \\right)}\\right)$"
      ],
      "text/plain": [
       "-G_A + G_B + R⋅T⋅(-log(1 - X_B(x)) + log(X_B(x)))"
      ]
     },
     "execution_count": 120,
     "metadata": {},
     "output_type": "execute_result"
    }
   ],
   "source": [
    "sp.diff(g,b(x))\n"
   ]
  },
  {
   "cell_type": "code",
   "execution_count": 132,
   "metadata": {},
   "outputs": [],
   "source": [
    "M = a*(1-b(x))*b(x)/(R*T)"
   ]
  },
  {
   "cell_type": "code",
   "execution_count": 133,
   "metadata": {},
   "outputs": [
    {
     "data": {
      "image/png": "[encoded data removed]",
      "text/latex": [
       "$\\displaystyle - A \\frac{d}{d x} \\operatorname{X_{B}}{\\left(x \\right)}$"
      ],
      "text/plain": [
       "   d         \n",
       "-A⋅──(X_B(x))\n",
       "   dx        "
      ]
     },
     "execution_count": 133,
     "metadata": {},
     "output_type": "execute_result"
    }
   ],
   "source": [
    "chemDerv= -M*sp.diff(sp.diff(g,b(x)),x).together()\n",
    "chemDerv\n"
   ]
  },
  {
   "cell_type": "code",
   "execution_count": 134,
   "metadata": {},
   "outputs": [
    {
     "data": {
      "image/png": "[encoded data removed]",
      "text/latex": [
       "$\\displaystyle - A \\frac{d^{2}}{d x^{2}} \\operatorname{X_{B}}{\\left(x \\right)}$"
      ],
      "text/plain": [
       "     2        \n",
       "    d         \n",
       "-A⋅───(X_B(x))\n",
       "     2        \n",
       "   dx         "
      ]
     },
     "execution_count": 134,
     "metadata": {},
     "output_type": "execute_result"
    }
   ],
   "source": [
    "\n",
    "div = chemDerv.diff(x)\n",
    "div\n"
   ]
  },
  {
   "cell_type": "markdown",
   "metadata": {},
   "source": [
    "To make $D$ equal to the constant $A$, I had to assume the mobility $M$ was equal to $A*(1 - X_B(x))*X_B(x)/RT $."
   ]
  },
  {
   "cell_type": "code",
   "execution_count": null,
   "metadata": {},
   "outputs": [],
   "source": []
  }
 ],
 "metadata": {
  "kernelspec": {
   "display_name": "Python 3",
   "language": "python",
   "name": "python3"
  },
  "language_info": {
   "codemirror_mode": {
    "name": "ipython",
    "version": 3
   },
   "file_extension": ".py",
   "mimetype": "text/x-python",
   "name": "python",
   "nbconvert_exporter": "python",
   "pygments_lexer": "ipython3",
   "version": "3.7.6"
  }
 },
 "nbformat": 4,
 "nbformat_minor": 4
}
