{
 "cells": [
  {
   "cell_type": "markdown",
   "metadata": {},
   "source": [
    "$c(x,0) = \\sum_{n=1}^N C_n sin(n\\pi x) = \\phi(x) = 1$ when $0<x<1$"
   ]
  },
  {
   "cell_type": "code",
   "execution_count": 24,
   "metadata": {},
   "outputs": [
    {
     "name": "stdout",
     "output_type": "stream",
     "text": [
      "\n"
     ]
    },
    {
     "data": {
      "image/png": "[encoded data removed]",
      "text/latex": [
       "$\\displaystyle \\left( C_{1}, \\  C_{2}\\right)$"
      ],
      "text/plain": [
       "(C₁, C₂)"
      ]
     },
     "execution_count": 24,
     "metadata": {},
     "output_type": "execute_result"
    }
   ],
   "source": [
    "import sympy as sp\n",
    "sp.init_session(quiet=True)\n",
    "sp.init_printing()\n",
    "\n",
    "var('X,T',cls=Function)\n",
    "var('alpha gamma c', positive=True)\n",
    "var('C1 C2')"
   ]
  },
  {
   "cell_type": "code",
   "execution_count": 25,
   "metadata": {},
   "outputs": [
    {
     "data": {
      "image/png": "[encoded data removed]",
      "text/latex": [
       "$\\displaystyle \\frac{\\frac{d}{d t} T{\\left(t \\right)}}{\\alpha^{2} T{\\left(t \\right)}} = - \\gamma^{2}$"
      ],
      "text/plain": [
       "d             \n",
       "──(T(t))      \n",
       "dt           2\n",
       "──────── = -γ \n",
       " 2            \n",
       "α ⋅T(t)       "
      ]
     },
     "execution_count": 25,
     "metadata": {},
     "output_type": "execute_result"
    }
   ],
   "source": [
    "timeODE = sp.Eq(T(t).diff(t,1)/(alpha**2*T(t)),-gamma**2)\n",
    "timeODE"
   ]
  },
  {
   "cell_type": "code",
   "execution_count": 26,
   "metadata": {},
   "outputs": [
    {
     "data": {
      "image/png": "[encoded data removed]",
      "text/latex": [
       "$\\displaystyle \\frac{\\frac{d^{2}}{d x^{2}} X{\\left(x \\right)}}{X{\\left(x \\right)}} = - \\gamma^{2}$"
      ],
      "text/plain": [
       "  2            \n",
       " d             \n",
       "───(X(x))      \n",
       "  2            \n",
       "dx            2\n",
       "───────── = -γ \n",
       "   X(x)        "
      ]
     },
     "execution_count": 26,
     "metadata": {},
     "output_type": "execute_result"
    }
   ],
   "source": [
    "spaceODE = sp.Eq(X(x).diff(x,2)/X(x),-gamma**2)\n",
    "spaceODE"
   ]
  },
  {
   "cell_type": "code",
   "execution_count": 27,
   "metadata": {},
   "outputs": [
    {
     "data": {
      "image/png": "[encoded data removed]",
      "text/latex": [
       "$\\displaystyle T{\\left(t \\right)} = e^{\\alpha^{2} \\left(C_{1} - \\gamma^{2} t\\right)}$"
      ],
      "text/plain": [
       "         2 ⎛      2  ⎞\n",
       "        α ⋅⎝C₁ - γ ⋅t⎠\n",
       "T(t) = ℯ              "
      ]
     },
     "execution_count": 27,
     "metadata": {},
     "output_type": "execute_result"
    }
   ],
   "source": [
    "sp.dsolve(timeODE,T(t))"
   ]
  },
  {
   "cell_type": "code",
   "execution_count": 28,
   "metadata": {},
   "outputs": [
    {
     "data": {
      "image/png": "[encoded data removed]",
      "text/latex": [
       "$\\displaystyle X{\\left(x \\right)} = C_{1} \\sin{\\left(\\gamma x \\right)} + C_{2} \\cos{\\left(\\gamma x \\right)}$"
      ],
      "text/plain": [
       "X(x) = C₁⋅sin(γ⋅x) + C₂⋅cos(γ⋅x)"
      ]
     },
     "execution_count": 28,
     "metadata": {},
     "output_type": "execute_result"
    }
   ],
   "source": [
    "list_of_hints = sp.classify_ode(timeODE)\n",
    "list_of_solutions = [sp.dsolve(timeODE,T(t), hint=hint) for hint in list_of_hints]\n",
    "list_of_solutions\n",
    "\n",
    "timePiece = sp.dsolve(timeODE,T(t), hint='1st_linear')\n",
    "timePiece\n",
    "\n",
    "spacePiece = sp.dsolve(spaceODE,X(x))\n",
    "spacePiece"
   ]
  },
  {
   "cell_type": "code",
   "execution_count": 29,
   "metadata": {},
   "outputs": [
    {
     "data": {
      "image/png": "[encoded data removed]",
      "text/latex": [
       "$\\displaystyle \\left(C_{1} \\sin{\\left(\\gamma x \\right)} + C_{2} \\cos{\\left(\\gamma x \\right)}\\right) e^{- \\alpha^{2} \\gamma^{2} t}$"
      ],
      "text/plain": [
       "                               2  2  \n",
       "                             -α ⋅γ ⋅t\n",
       "(C₁⋅sin(γ⋅x) + C₂⋅cos(γ⋅x))⋅ℯ        "
      ]
     },
     "execution_count": 29,
     "metadata": {},
     "output_type": "execute_result"
    }
   ],
   "source": [
    "generalSolution = (timePiece.rhs).subs(C1,1)*spacePiece.rhs\n",
    "generalSolution"
   ]
  },
  {
   "cell_type": "code",
   "execution_count": 30,
   "metadata": {},
   "outputs": [
    {
     "data": {
      "image/png": "[encoded data removed]",
      "text/latex": [
       "$\\displaystyle C_{1} \\sin{\\left(\\pi n x \\right)}$"
      ],
      "text/plain": [
       "C₁⋅sin(π⋅n⋅x)"
      ]
     },
     "execution_count": 30,
     "metadata": {},
     "output_type": "execute_result"
    }
   ],
   "source": [
    "genSub = generalSolution.subs({t:0, C2:0, gamma:n*sp.pi})\n",
    "genSub"
   ]
  },
  {
   "cell_type": "code",
   "execution_count": 45,
   "metadata": {},
   "outputs": [
    {
     "data": {
      "image/png": "[encoded data removed]",
      "text/plain": [
       "<Figure size 432x288 with 1 Axes>"
      ]
     },
     "metadata": {
      "needs_background": "light"
     },
     "output_type": "display_data"
    },
    {
     "data": {
      "text/plain": [
       "<sympy.plotting.plot.Plot at 0x161360efac8>"
      ]
     },
     "execution_count": 45,
     "metadata": {},
     "output_type": "execute_result"
    }
   ],
   "source": [
    "%matplotlib inline\n",
    "p = sp.Piecewise((0,x<-1),(-1, x<0),(1,x<1),(0,True))\n",
    "q = sp.Piecewise((0,x<0),(1,x<1),(0,True))\n",
    "Fourier = sp.fourier_series(p,(-1,1)).truncate(20)\n",
    "sp.plot(p)"
   ]
  },
  {
   "cell_type": "code",
   "execution_count": 39,
   "metadata": {},
   "outputs": [
    {
     "data": {
      "image/png": "[encoded data removed]",
      "text/plain": [
       "<Figure size 432x288 with 1 Axes>"
      ]
     },
     "metadata": {
      "needs_background": "light"
     },
     "output_type": "display_data"
    },
    {
     "data": {
      "text/plain": [
       "<sympy.plotting.plot.Plot at 0x161348b0548>"
      ]
     },
     "execution_count": 39,
     "metadata": {},
     "output_type": "execute_result"
    }
   ],
   "source": [
    "sp.plot(Fourier)"
   ]
  },
  {
   "cell_type": "code",
   "execution_count": 46,
   "metadata": {},
   "outputs": [
    {
     "data": {
      "image/png": "[encoded data removed]",
      "text/latex": [
       "$\\displaystyle \\frac{4 \\sin{\\left(\\pi x \\right)}}{\\pi} + \\frac{4 \\sin{\\left(3 \\pi x \\right)}}{3 \\pi} + \\frac{4 \\sin{\\left(5 \\pi x \\right)}}{5 \\pi} + \\frac{4 \\sin{\\left(7 \\pi x \\right)}}{7 \\pi}$"
      ],
      "text/plain": [
       "4⋅sin(π⋅x)   4⋅sin(3⋅π⋅x)   4⋅sin(5⋅π⋅x)   4⋅sin(7⋅π⋅x)\n",
       "────────── + ──────────── + ──────────── + ────────────\n",
       "    π            3⋅π            5⋅π            7⋅π     "
      ]
     },
     "execution_count": 46,
     "metadata": {},
     "output_type": "execute_result"
    }
   ],
   "source": [
    "sp.fourier_series(p,(-1,1)).truncate(4)"
   ]
  },
  {
   "cell_type": "code",
   "execution_count": 47,
   "metadata": {},
   "outputs": [
    {
     "data": {
      "image/png": "[encoded data removed]",
      "text/latex": [
       "$\\displaystyle \\frac{2 \\sin{\\left(\\pi x \\right)}}{\\pi} + \\frac{2 \\sin{\\left(3 \\pi x \\right)}}{3 \\pi} + \\frac{2 \\sin{\\left(5 \\pi x \\right)}}{5 \\pi} + \\frac{1}{2}$"
      ],
      "text/plain": [
       "2⋅sin(π⋅x)   2⋅sin(3⋅π⋅x)   2⋅sin(5⋅π⋅x)   1\n",
       "────────── + ──────────── + ──────────── + ─\n",
       "    π            3⋅π            5⋅π        2"
      ]
     },
     "execution_count": 47,
     "metadata": {},
     "output_type": "execute_result"
    }
   ],
   "source": [
    "sp.fourier_series(q,(-1,1)).truncate(4)"
   ]
  },
  {
   "cell_type": "markdown",
   "metadata": {},
   "source": [
    "Now we combine the Fourier series we calculated with the general solution, creating a function to allow us to change the values of the constants and the number of terms. Since the Fourier series of $q$ has a constant of $0.5$, it will not have the correct boundary condition, so we will use `numpy` and a list comprehension to create the function. "
   ]
  },
  {
   "cell_type": "code",
   "execution_count": 54,
   "metadata": {},
   "outputs": [],
   "source": [
    "%matplotlib inline\n",
    "\n",
    "import numpy as np\n",
    "import matplotlib.pyplot as plt\n",
    "from ipywidgets import interact\n",
    "\n",
    "def solution(x,t,alpha,terms):\n",
    "    return sum([4*np.sin((2*n-1)*np.pi*x)/((2*n-1)*np.pi)*np.exp(-t*(alpha*n*np.pi)**2) for n in range(1, terms+1)])\n",
    "\n",
    "def graph(t=0.01, alpha = 0.2, terms = 20):\n",
    "    plt.figure(figsize= (10,8))\n",
    "    x = np.arange(-1,1,0.001)\n",
    "    y = solution(x,t,alpha,terms)\n",
    "    y1 = np.ones_like(x)\n",
    "    plt.plot(x, y, x, y1,'orange')\n",
    "    plt.fill_between(x,0,y, alpha = 0.2)\n",
    "    plt.ylim(-1.5,1.5)\n",
    "    plt.xlabel(\"Distance\")\n",
    "    plt.ylabel(\"Concentration\")\n",
    "    plt.show()\n",
    "    \n",
    "    \n",
    "\n"
   ]
  },
  {
   "cell_type": "code",
   "execution_count": 55,
   "metadata": {},
   "outputs": [
    {
     "data": {
      "application/vnd.jupyter.widget-view+json": {
       "model_id": "405daffad54b4aa7a688650839ca5db8",
       "version_major": 2,
       "version_minor": 0
      },
      "text/plain": [
       "interactive(children=(FloatSlider(value=0.01, description='t', max=2.0, min=0.001, step=0.01), FloatSlider(val…"
      ]
     },
     "metadata": {},
     "output_type": "display_data"
    }
   ],
   "source": [
    "interact(graph,t=(0.001,2,0.01), terms=(1,40,1));"
   ]
  },
  {
   "cell_type": "code",
   "execution_count": null,
   "metadata": {},
   "outputs": [],
   "source": []
  }
 ],
 "metadata": {
  "kernelspec": {
   "display_name": "Python 3",
   "language": "python",
   "name": "python3"
  },
  "language_info": {
   "codemirror_mode": {
    "name": "ipython",
    "version": 3
   },
   "file_extension": ".py",
   "mimetype": "text/x-python",
   "name": "python",
   "nbconvert_exporter": "python",
   "pygments_lexer": "ipython3",
   "version": "3.7.6"
  }
 },
 "nbformat": 4,
 "nbformat_minor": 4
}
