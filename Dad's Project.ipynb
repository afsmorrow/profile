{
 "cells": [
  {
   "cell_type": "code",
   "execution_count": 16,
   "metadata": {},
   "outputs": [],
   "source": [
    "import pandas as pd\n",
    "import numpy as np\n",
    "\n",
    "data = pd.read_csv(\"PythonExcel.csv\")"
   ]
  },
  {
   "cell_type": "code",
   "execution_count": 17,
   "metadata": {},
   "outputs": [],
   "source": [
    "categories = data[\"Category\"]\n",
    "items = data[\"String\"]\n",
    "itemList = []\n",
    "for i in items:\n",
    "    #print(i)\n",
    "    addList = []\n",
    "    addList = i.split('|')\n",
    "    itemList.append(addList)\n"
   ]
  },
  {
   "cell_type": "code",
   "execution_count": 20,
   "metadata": {},
   "outputs": [
    {
     "data": {
      "text/plain": [
       "{'Fruit': ['Apple', ' Peach ', ' Blueberry ', ' Rasberry'],\n",
       " 'Vegtable': ['Lettuce ', ' Cucumber ', ' Spinach'],\n",
       " 'Animal': ['Wolf ',\n",
       "  ' Dog ',\n",
       "  ' Cat ',\n",
       "  ' Shark ',\n",
       "  ' Tiger ',\n",
       "  ' Bear ',\n",
       "  ' Fo ',\n",
       "  '']}"
      ]
     },
     "execution_count": 20,
     "metadata": {},
     "output_type": "execute_result"
    }
   ],
   "source": [
    "categories[0]\n",
    "itemDict = {}\n",
    "\n",
    "j=0\n",
    "for i in categories:\n",
    "    itemDict[i] = itemList[j]\n",
    "    j+=1\n",
    "itemDict"
   ]
  },
  {
   "cell_type": "code",
   "execution_count": null,
   "metadata": {},
   "outputs": [],
   "source": []
  },
  {
   "cell_type": "code",
   "execution_count": null,
   "metadata": {},
   "outputs": [],
   "source": []
  }
 ],
 "metadata": {
  "kernelspec": {
   "display_name": "Python 3",
   "language": "python",
   "name": "python3"
  },
  "language_info": {
   "codemirror_mode": {
    "name": "ipython",
    "version": 3
   },
   "file_extension": ".py",
   "mimetype": "text/x-python",
   "name": "python",
   "nbconvert_exporter": "python",
   "pygments_lexer": "ipython3",
   "version": "3.7.6"
  }
 },
 "nbformat": 4,
 "nbformat_minor": 4
}
