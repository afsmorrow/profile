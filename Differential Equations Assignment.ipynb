{
 "cells": [
  {
   "cell_type": "markdown",
   "metadata": {},
   "source": [
    "Many materials display time-dependent behavior under stress, which can be simulated through a variety of models, including the Kelvin model. The Kelvin model simulates materials as a spring and a dashpot in parallel, where the spring obeys Hooke's Law, $\\sigma=M\\epsilon $ and the dashpot obeys $\\sigma = \\eta \\frac{d \\epsilon}{dt}$. \n",
    "\n",
    "In the above equations, $\\sigma$ is the stress, $M$ is the modulus of elasticity in the linear regime, $\\epsilon$ is the elastic strain, and $\\eta$ is related to the viscous response.\n",
    "\n",
    "We can use a first order differential equation to find the graph of strain vs. time when stress is the forcing function:\n",
    "$$\\sigma(t) = \\sigma_0 \\sin(\\omega t)$$\n"
   ]
  },
  {
   "cell_type": "code",
   "execution_count": 45,
   "metadata": {},
   "outputs": [
    {
     "name": "stdout",
     "output_type": "stream",
     "text": [
      "\n"
     ]
    }
   ],
   "source": [
    "import numpy as np\n",
    "import matplotlib\n",
    "import matplotlib.pyplot as plt\n",
    "\n",
    "import sympy as sp\n",
    "sp.init_session(quiet = True)"
   ]
  },
  {
   "cell_type": "markdown",
   "metadata": {},
   "source": [
    "We begin by import `sympy` to do the differential equation and `numpy` and `matplotlib` for the graphing. First we must set out variables. $\\epsilon$ and $\\sigma$ are defined as functions, $t$ is defined as a real value, and all other variables are defined as real and postive."
   ]
  },
  {
   "cell_type": "code",
   "execution_count": 46,
   "metadata": {},
   "outputs": [
    {
     "data": {
      "text/plain": [
       "(epsilon, sigma)"
      ]
     },
     "execution_count": 46,
     "metadata": {},
     "output_type": "execute_result"
    }
   ],
   "source": [
    "sp.var('omega, M, eta, epsilon0, sigma0', real=True, positive=True)\n",
    "sp.var('t', real = True)\n",
    "sp.var('epsilon, sigma', cls = Function)"
   ]
  },
  {
   "cell_type": "markdown",
   "metadata": {},
   "source": [
    "Next we must define our inital function, then subsitute our forcing function for stress, then we use the `sympy` function `dsolve` to solve the equation for $\\epsilon(t)$, which finds it equal to an equation which includes an unknown constant."
   ]
  },
  {
   "cell_type": "code",
   "execution_count": 33,
   "metadata": {},
   "outputs": [
    {
     "data": {
      "image/png": "[encoded data removed]",
      "text/latex": [
       "$\\displaystyle \\sigma{\\left(t \\right)} = M \\epsilon{\\left(t \\right)} + \\eta \\frac{d}{d t} \\epsilon{\\left(t \\right)}$"
      ],
      "text/plain": [
       "                  d       \n",
       "σ(t) = M⋅ε(t) + η⋅──(ε(t))\n",
       "                  dt      "
      ]
     },
     "execution_count": 33,
     "metadata": {},
     "output_type": "execute_result"
    }
   ],
   "source": [
    "kelvinModel = Eq(sigma(t),M*epsilon(t)+eta*epsilon(t).diff(t))\n",
    "kelvinModel"
   ]
  },
  {
   "cell_type": "code",
   "execution_count": 34,
   "metadata": {},
   "outputs": [
    {
     "data": {
      "image/png": "[encoded data removed]",
      "text/latex": [
       "$\\displaystyle \\sigma_{0} \\sin{\\left(\\omega t \\right)} = M \\epsilon{\\left(t \\right)} + \\eta \\frac{d}{d t} \\epsilon{\\left(t \\right)}$"
      ],
      "text/plain": [
       "                         d       \n",
       "σ₀⋅sin(ω⋅t) = M⋅ε(t) + η⋅──(ε(t))\n",
       "                         dt      "
      ]
     },
     "execution_count": 34,
     "metadata": {},
     "output_type": "execute_result"
    }
   ],
   "source": [
    "kelvinModelVaryingStress = kelvinModel.subs(sigma(t),sigma0*sp.sin(omega*t))\n",
    "kelvinModelVaryingStress"
   ]
  },
  {
   "cell_type": "code",
   "execution_count": 35,
   "metadata": {},
   "outputs": [
    {
     "data": {
      "image/png": "[encoded data removed]",
      "text/latex": [
       "$\\displaystyle \\epsilon{\\left(t \\right)} = \\left(C_{1} + \\frac{\\sigma_{0} \\left(M \\sin{\\left(\\omega t \\right)} - \\eta \\omega \\cos{\\left(\\omega t \\right)}\\right) e^{\\frac{M t}{\\eta}}}{M^{2} + \\eta^{2} \\omega^{2}}\\right) e^{- \\frac{M t}{\\eta}}$"
      ],
      "text/plain": [
       "       ⎛                                     M⋅t⎞       \n",
       "       ⎜                                     ───⎟  -M⋅t \n",
       "       ⎜                                      η ⎟  ─────\n",
       "       ⎜     σ₀⋅(M⋅sin(ω⋅t) - η⋅ω⋅cos(ω⋅t))⋅ℯ   ⎟    η  \n",
       "ε(t) = ⎜C₁ + ───────────────────────────────────⎟⋅ℯ     \n",
       "       ⎜                   2    2  2            ⎟       \n",
       "       ⎝                  M  + η ⋅ω             ⎠       "
      ]
     },
     "execution_count": 35,
     "metadata": {},
     "output_type": "execute_result"
    }
   ],
   "source": [
    "\n",
    "kelvinModelSolution = dsolve(kelvinModelVaryingStress,epsilon(t))\n",
    "kelvinModelSolution"
   ]
  },
  {
   "cell_type": "markdown",
   "metadata": {},
   "source": [
    "When $t$ is 0, $\\epsilon(t)$ is 0. We can use this to solve for the constant, which we then subsitute back in."
   ]
  },
  {
   "cell_type": "code",
   "execution_count": 47,
   "metadata": {},
   "outputs": [
    {
     "data": {
      "image/png": "[encoded data removed]",
      "text/latex": [
       "$\\displaystyle 0 = C_{1} - \\frac{\\eta \\omega \\sigma_{0}}{M^{2} + \\eta^{2} \\omega^{2}}$"
      ],
      "text/plain": [
       "           η⋅ω⋅σ₀  \n",
       "0 = C₁ - ──────────\n",
       "          2    2  2\n",
       "         M  + η ⋅ω "
      ]
     },
     "execution_count": 47,
     "metadata": {},
     "output_type": "execute_result"
    }
   ],
   "source": [
    "equationToSolveForC = kelvinModelSolution.subs([(epsilon(t),0),(t,0)])\n",
    "equationToSolveForC.doit()"
   ]
  },
  {
   "cell_type": "code",
   "execution_count": 48,
   "metadata": {},
   "outputs": [
    {
     "data": {
      "image/png": "[encoded data removed]",
      "text/latex": [
       "$\\displaystyle C_{1}$"
      ],
      "text/plain": [
       "C₁"
      ]
     },
     "execution_count": 48,
     "metadata": {},
     "output_type": "execute_result"
    }
   ],
   "source": [
    "var('C1')"
   ]
  },
  {
   "cell_type": "code",
   "execution_count": 49,
   "metadata": {},
   "outputs": [
    {
     "data": {
      "image/png": "[encoded data removed]",
      "text/latex": [
       "$\\displaystyle \\left[ \\frac{\\eta \\omega \\sigma_{0}}{M^{2} + \\eta^{2} \\omega^{2}}\\right]$"
      ],
      "text/plain": [
       "⎡  η⋅ω⋅σ₀  ⎤\n",
       "⎢──────────⎥\n",
       "⎢ 2    2  2⎥\n",
       "⎣M  + η ⋅ω ⎦"
      ]
     },
     "execution_count": 49,
     "metadata": {},
     "output_type": "execute_result"
    }
   ],
   "source": [
    "solve(equationToSolveForC.rhs,C1)"
   ]
  },
  {
   "cell_type": "code",
   "execution_count": 50,
   "metadata": {},
   "outputs": [
    {
     "data": {
      "image/png": "[encoded data removed]",
      "text/latex": [
       "$\\displaystyle \\left(\\frac{\\eta \\omega \\sigma_{0}}{M^{2} + \\eta^{2} \\omega^{2}} + \\frac{\\sigma_{0} \\left(M \\sin{\\left(\\omega t \\right)} - \\eta \\omega \\cos{\\left(\\omega t \\right)}\\right) e^{\\frac{M t}{\\eta}}}{M^{2} + \\eta^{2} \\omega^{2}}\\right) e^{- \\frac{M t}{\\eta}}$"
      ],
      "text/plain": [
       "⎛                                             M⋅t⎞       \n",
       "⎜                                             ───⎟  -M⋅t \n",
       "⎜                                              η ⎟  ─────\n",
       "⎜  η⋅ω⋅σ₀     σ₀⋅(M⋅sin(ω⋅t) - η⋅ω⋅cos(ω⋅t))⋅ℯ   ⎟    η  \n",
       "⎜────────── + ───────────────────────────────────⎟⋅ℯ     \n",
       "⎜ 2    2  2                 2    2  2            ⎟       \n",
       "⎝M  + η ⋅ω                 M  + η ⋅ω             ⎠       "
      ]
     },
     "execution_count": 50,
     "metadata": {},
     "output_type": "execute_result"
    }
   ],
   "source": [
    "modeled = kelvinModelSolution.subs(C1,((omega*eta*sigma0)/(M**2 +eta**2*omega**2))).collect(sigma0,)\n",
    "modeled.rhs"
   ]
  },
  {
   "cell_type": "markdown",
   "metadata": {},
   "source": [
    "\n",
    "Now we use the `sympy` function `lambdify` to make the function compatible with `numpy` (note that every variable in the function is listed, and only the right hand side of the function is modeled). Next, a `linspace` is created going from 0 to 10, with 10000 points in between.  This array is used as the list of t-values for the  graph. \n",
    "\n",
    "Also note the `%matplotlib inline` at the top, which is used to make the graph show up in the notebook and not a separate window."
   ]
  },
  {
   "cell_type": "code",
   "execution_count": 53,
   "metadata": {},
   "outputs": [
    {
     "data": {
      "image/png": "[encoded data removed]",
      "text/plain": [
       "<Figure size 432x288 with 1 Axes>"
      ]
     },
     "metadata": {
      "needs_background": "light"
     },
     "output_type": "display_data"
    }
   ],
   "source": [
    "%matplotlib inline\n",
    "\n",
    "numModeled = sp.lambdify((M,omega, eta, sigma0,t),modeled.rhs, 'numpy')\n",
    "#print(numModeled)\n",
    "\n",
    "tValues = np.arange(0,1.1,0.1)\n",
    "tValLin = np.linspace(0,10,10000)\n",
    "fig = plt.figure()\n",
    "\n",
    "axes = fig.add_axes([0.1,0.1,0.8,0.8]) #left,bottom, width, height, range 0-1\n",
    "\n",
    "axes.plot(tValLin, numModeled(1,1,1,1,tValLin),color = 'g')\n",
    "axes.set_xlabel('t', size = 20)\n",
    "axes.set_ylabel('$\\epsilon$', size = 20)\n",
    "\n",
    "plt.show()\n"
   ]
  },
  {
   "cell_type": "markdown",
   "metadata": {},
   "source": [
    "Here are some potential ways to extend or improve this program:\n",
    "\n",
    "* Show a graph of the forcing function as well\n",
    "* Allow user to create their own forcing functions or set $\\omega$ and $M$ and other variables\n",
    "* Make the graph look better (clear delivery of information is very important!)"
   ]
  },
  {
   "cell_type": "code",
   "execution_count": null,
   "metadata": {},
   "outputs": [],
   "source": []
  }
 ],
 "metadata": {
  "kernelspec": {
   "display_name": "Python 3",
   "language": "python",
   "name": "python3"
  },
  "language_info": {
   "codemirror_mode": {
    "name": "ipython",
    "version": 3
   },
   "file_extension": ".py",
   "mimetype": "text/x-python",
   "name": "python",
   "nbconvert_exporter": "python",
   "pygments_lexer": "ipython3",
   "version": "3.7.6"
  }
 },
 "nbformat": 4,
 "nbformat_minor": 4
}
