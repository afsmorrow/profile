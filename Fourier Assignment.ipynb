{
 "cells": [
  {
   "cell_type": "markdown",
   "metadata": {},
   "source": [
    "Any function can be approximated by combining other functions. One such combination, most commonly used with periodic functions, is known as the Fourier Series. It is given by:\n",
    "\n",
    "$$\n",
    "f(x) = \\frac{a_0}{2} + \\sum_{n=1}^{\\infty} a_n cos(nx) + \\sum_{m=1}^{\\infty} b_m sin(mx)\n",
    "$$"
   ]
  },
  {
   "cell_type": "markdown",
   "metadata": {},
   "source": [
    "The coefficients $a_n$ and %b_m$ are found by relating them to the originial function.\n",
    "\n",
    "$$\n",
    "a_n = \\frac{1}{\\pi} \\int^{2\\pi}_0 f(s) \\cos ns \\; ds, \\;\\; n = 0,1,2,...\n",
    "$$\n",
    "\n",
    "and\n",
    "\n",
    "$$\n",
    "b_m = \\frac{1}{\\pi} \\int^{2\\pi}_0 f(s) \\sin ms \\; ds, \\;\\; m = 1,2,...\n",
    "$$\n"
   ]
  },
  {
   "cell_type": "markdown",
   "metadata": {},
   "source": [
    " `SymPy`has a function which can be used to find the Fourier Series of a SymPy function."
   ]
  },
  {
   "cell_type": "code",
   "execution_count": 1,
   "metadata": {},
   "outputs": [
    {
     "data": {
      "application/vnd.jupyter.widget-view+json": {
       "model_id": "e61173057f8549b3b5e5163615e131d0",
       "version_major": 2,
       "version_minor": 0
      },
      "text/plain": [
       "interactive(children=(IntSlider(value=5, description='terms', max=10, min=1), Output()), _dom_classes=('widget…"
      ]
     },
     "metadata": {},
     "output_type": "display_data"
    }
   ],
   "source": [
    "import sympy as sp\n",
    "import matplotlib as mpl\n",
    "import matplotlib.pyplot as plt\n",
    "from ipywidgets import interact, fixed\n",
    "\n",
    "sp.init_printing()\n",
    "\n",
    "x = sp.symbols('x')\n",
    "\n",
    "def func1(a):\n",
    "    return sp.Piecewise((0,  a<0 ), (a,  a < sp.pi), (a - 2*sp.pi, a < 2*sp.pi), (0, True ))\n",
    "\n",
    "\n",
    "def fsMyFunc(terms, var):\n",
    "    return sp.fourier_series(func1(var), (var, 0, 2*sp.pi)).truncate(n=terms)\n",
    "\n",
    "def plotMyFunc(terms):\n",
    "   \n",
    "    p1 = sp.plot(func1(x), show=False, line_color='b') \n",
    "    p2 = sp.plot(fsMyFunc(terms,x),(x, 0, 2* sp.pi), show=False, line_color='r')\n",
    "    p1.append(p2[0])\n",
    "    p1.show()\n",
    "    return None\n",
    "\n",
    "plt.rcParams['lines.linewidth'] = 3\n",
    "plt.rcParams['figure.figsize'] = 8, 6\n",
    "\n",
    "interact(plotMyFunc, terms=(1,10,1));"
   ]
  },
  {
   "cell_type": "code",
   "execution_count": 5,
   "metadata": {},
   "outputs": [
    {
     "data": {
      "image/png": "[encoded data removed]",
      "text/latex": [
       "$\\displaystyle - \\frac{2.0 \\sin{\\left(\\pi x \\right)}}{\\pi} - \\frac{1.0 \\sin{\\left(2 \\pi x \\right)}}{\\pi} - \\frac{0.666666666666667 \\sin{\\left(3 \\pi x \\right)}}{\\pi} - \\frac{0.5 \\sin{\\left(4 \\pi x \\right)}}{\\pi} - \\frac{0.4 \\sin{\\left(5 \\pi x \\right)}}{\\pi} - \\frac{0.333333333333333 \\sin{\\left(6 \\pi x \\right)}}{\\pi} - \\frac{0.285714285714286 \\sin{\\left(7 \\pi x \\right)}}{\\pi} - \\frac{0.25 \\sin{\\left(8 \\pi x \\right)}}{\\pi} - \\frac{0.222222222222222 \\sin{\\left(9 \\pi x \\right)}}{\\pi} - \\frac{0.2 \\sin{\\left(10 \\pi x \\right)}}{\\pi} - \\frac{0.181818181818182 \\sin{\\left(11 \\pi x \\right)}}{\\pi} - \\frac{0.166666666666667 \\sin{\\left(12 \\pi x \\right)}}{\\pi} - \\frac{0.153846153846154 \\sin{\\left(13 \\pi x \\right)}}{\\pi} - \\frac{0.142857142857143 \\sin{\\left(14 \\pi x \\right)}}{\\pi} + 1.0$"
      ],
      "text/plain": [
       "  2.0⋅sin(π⋅x)   1.0⋅sin(2⋅π⋅x)   0.666666666666667⋅sin(3⋅π⋅x)   0.5⋅sin(4⋅π⋅x\n",
       "- ──────────── - ────────────── - ──────────────────────────── - ─────────────\n",
       "       π               π                       π                       π      \n",
       "\n",
       ")   0.4⋅sin(5⋅π⋅x)   0.333333333333333⋅sin(6⋅π⋅x)   0.285714285714286⋅sin(7⋅π⋅\n",
       "─ - ────────────── - ──────────────────────────── - ──────────────────────────\n",
       "          π                       π                              π            \n",
       "\n",
       "x)   0.25⋅sin(8⋅π⋅x)   0.222222222222222⋅sin(9⋅π⋅x)   0.2⋅sin(10⋅π⋅x)   0.1818\n",
       "── - ─────────────── - ──────────────────────────── - ─────────────── - ──────\n",
       "            π                       π                        π                \n",
       "\n",
       "18181818182⋅sin(11⋅π⋅x)   0.166666666666667⋅sin(12⋅π⋅x)   0.153846153846154⋅si\n",
       "─────────────────────── - ───────────────────────────── - ────────────────────\n",
       "        π                               π                               π     \n",
       "\n",
       "n(13⋅π⋅x)   0.142857142857143⋅sin(14⋅π⋅x)      \n",
       "───────── - ───────────────────────────── + 1.0\n",
       "                          π                    "
      ]
     },
     "execution_count": 5,
     "metadata": {},
     "output_type": "execute_result"
    }
   ],
   "source": [
    "import numpy as np\n",
    "\n",
    "x = sp.symbols('x')\n",
    "dum = sp.symbols('dum')\n",
    "sp.init_printing()\n",
    "\n",
    "lam = 2\n",
    "center = 1\n",
    "\n",
    "def signal(x):\n",
    "    return (x)\n",
    "\n",
    "def mySpecialFunction(x):\n",
    "    return sp.sin(2*x)\n",
    "\n",
    "def b_m_amplitudes(n, funToProject, center, lam):\n",
    "    return (2/lam)*sp.integrate(funToProject(dum)*sp.sin(2*n*sp.pi*dum/lam), (dum,center-lam/2,center+lam/2))\n",
    "\n",
    "def a_n_amplitudes(m, funToProject, center, lam):\n",
    "    return (2/lam)*sp.integrate(funToProject(dum)*sp.cos(2*m*sp.pi*dum/lam), (dum,center-lam/2,center+lam/2))\n",
    "\n",
    "def b_m_vectorspace_element(n, var, lam):\n",
    "    return sp.sin(2*n*sp.pi*var/lam)\n",
    "\n",
    "def a_n_vectorspace_element(m, var, lam):\n",
    "    if m==0:\n",
    "        return sp.Rational(1,2)\n",
    "    elif m!=0:\n",
    "        return sp.cos(2*m*sp.pi*var/lam)\n",
    "    \n",
    "terms = 15\n",
    "funToProject = signal\n",
    "\n",
    "an_vectors = [a_n_vectorspace_element(n, x, lam) for n in range(terms)]\n",
    "an_amplitudes = [a_n_amplitudes(n, funToProject, center, lam) for n in range(terms)]\n",
    "bm_vectors = [b_m_vectorspace_element(m, x, lam) for m in range(terms)]\n",
    "bm_amplitudes = [b_m_amplitudes(m, funToProject, center, lam) for m in range(terms)]\n",
    "\n",
    "truncatedSeries = (sum([a*b for a,b in zip(an_vectors,an_amplitudes)]) \n",
    "                   + sum([c*d for c,d in zip(bm_vectors,bm_amplitudes)]))\n",
    "truncatedSeries"
   ]
  },
  {
   "cell_type": "code",
   "execution_count": 6,
   "metadata": {},
   "outputs": [
    {
     "data": {
      "image/png": "[encoded data removed]",
      "text/plain": [
       "<Figure size 576x432 with 1 Axes>"
      ]
     },
     "metadata": {
      "needs_background": "light"
     },
     "output_type": "display_data"
    }
   ],
   "source": [
    "p = sp.plot(signal(x), truncatedSeries, (x, 0, 2), show=False, title=r'Comparison of Series (Red) and Function (Blue)')\n",
    "p[0].line_color = 'blue'\n",
    "p[1].line_color = 'red'\n",
    "p.show()"
   ]
  },
  {
   "cell_type": "code",
   "execution_count": 2,
   "metadata": {},
   "outputs": [
    {
     "data": {
      "text/plain": [
       "array([[[255, 255, 255, 255],\n",
       "        [255, 255, 255, 255],\n",
       "        [255, 255, 255, 255],\n",
       "        ...,\n",
       "        [255, 255, 255, 255],\n",
       "        [255, 255, 255, 255],\n",
       "        [255, 255, 255, 255]],\n",
       "\n",
       "       [[255, 255, 255, 255],\n",
       "        [255, 255, 255, 255],\n",
       "        [255, 255, 255, 255],\n",
       "        ...,\n",
       "        [255, 255, 255, 255],\n",
       "        [255, 255, 255, 255],\n",
       "        [255, 255, 255, 255]],\n",
       "\n",
       "       [[255, 255, 255, 255],\n",
       "        [255, 255, 255, 255],\n",
       "        [255, 255, 255, 255],\n",
       "        ...,\n",
       "        [255, 255, 255, 255],\n",
       "        [255, 255, 255, 255],\n",
       "        [255, 255, 255, 255]],\n",
       "\n",
       "       ...,\n",
       "\n",
       "       [[255, 255, 255, 255],\n",
       "        [255, 255, 255, 255],\n",
       "        [255, 255, 255, 255],\n",
       "        ...,\n",
       "        [255, 255, 255, 255],\n",
       "        [255, 255, 255, 255],\n",
       "        [255, 255, 255, 255]],\n",
       "\n",
       "       [[255, 255, 255, 255],\n",
       "        [255, 255, 255, 255],\n",
       "        [255, 255, 255, 255],\n",
       "        ...,\n",
       "        [255, 255, 255, 255],\n",
       "        [255, 255, 255, 255],\n",
       "        [255, 255, 255, 255]],\n",
       "\n",
       "       [[255, 255, 255, 255],\n",
       "        [255, 255, 255, 255],\n",
       "        [255, 255, 255, 255],\n",
       "        ...,\n",
       "        [255, 255, 255, 255],\n",
       "        [255, 255, 255, 255],\n",
       "        [255, 255, 255, 255]]], dtype=uint8)"
      ]
     },
     "execution_count": 2,
     "metadata": {},
     "output_type": "execute_result"
    }
   ],
   "source": [
    "from PIL import Image\n",
    "import numpy as np\n",
    "\n",
    "im = np.array(Image.open(\"Function.png\"))\n",
    "im"
   ]
  },
  {
   "cell_type": "code",
   "execution_count": null,
   "metadata": {},
   "outputs": [],
   "source": []
  }
 ],
 "metadata": {
  "kernelspec": {
   "display_name": "Python 3",
   "language": "python",
   "name": "python3"
  },
  "language_info": {
   "codemirror_mode": {
    "name": "ipython",
    "version": 3
   },
   "file_extension": ".py",
   "mimetype": "text/x-python",
   "name": "python",
   "nbconvert_exporter": "python",
   "pygments_lexer": "ipython3",
   "version": "3.7.6"
  }
 },
 "nbformat": 4,
 "nbformat_minor": 4
}
